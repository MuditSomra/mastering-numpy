{
 "cells": [
  {
   "cell_type": "code",
   "execution_count": 1,
   "id": "69f97c05-a450-4d02-b84a-4fea8aa1afec",
   "metadata": {},
   "outputs": [],
   "source": [
    "import numpy as np"
   ]
  },
  {
   "cell_type": "markdown",
   "id": "3006f49e-7fb5-48f3-8289-69911cca028b",
   "metadata": {},
   "source": [
    "### Creating Arrays"
   ]
  },
  {
   "cell_type": "markdown",
   "id": "da2226a4-5042-40d5-99ea-4048124e04a9",
   "metadata": {},
   "source": [
    "__np.array__"
   ]
  },
  {
   "cell_type": "code",
   "execution_count": 2,
   "id": "0fe168ea-961f-42da-b8f2-76217a2749d6",
   "metadata": {},
   "outputs": [],
   "source": [
    "arr = np.array([1,2,3])"
   ]
  },
  {
   "cell_type": "code",
   "execution_count": 3,
   "id": "0c3ff13f-7246-49f8-bebc-e2b4e1484498",
   "metadata": {},
   "outputs": [
    {
     "data": {
      "text/plain": [
       "array([1, 2, 3])"
      ]
     },
     "execution_count": 3,
     "metadata": {},
     "output_type": "execute_result"
    }
   ],
   "source": [
    "arr"
   ]
  },
  {
   "cell_type": "code",
   "execution_count": 4,
   "id": "bb096013-6578-498d-b358-aef40a03ccfb",
   "metadata": {},
   "outputs": [],
   "source": [
    "arr2d = np.array([[1,2,3],[4,6,5],[8,7,9]])"
   ]
  },
  {
   "cell_type": "code",
   "execution_count": 5,
   "id": "a26e41e7-4eb5-4248-afdf-e0c3b60fdb67",
   "metadata": {},
   "outputs": [
    {
     "data": {
      "text/plain": [
       "array([[1, 2, 3],\n",
       "       [4, 6, 5],\n",
       "       [8, 7, 9]])"
      ]
     },
     "execution_count": 5,
     "metadata": {},
     "output_type": "execute_result"
    }
   ],
   "source": [
    "arr2d"
   ]
  },
  {
   "cell_type": "code",
   "execution_count": 6,
   "id": "92fbaa01-2d68-4ca2-b162-0309ee0b6682",
   "metadata": {},
   "outputs": [],
   "source": [
    "arr3d = np.array([[[1,2,3],[4,6,5],[8,7,9]],[[11,12,13],[14,16,15],[18,17,19]]])"
   ]
  },
  {
   "cell_type": "code",
   "execution_count": 7,
   "id": "bf821943-2fc8-45ef-bc8f-34fb915f1be6",
   "metadata": {},
   "outputs": [
    {
     "data": {
      "text/plain": [
       "array([[[ 1,  2,  3],\n",
       "        [ 4,  6,  5],\n",
       "        [ 8,  7,  9]],\n",
       "\n",
       "       [[11, 12, 13],\n",
       "        [14, 16, 15],\n",
       "        [18, 17, 19]]])"
      ]
     },
     "execution_count": 7,
     "metadata": {},
     "output_type": "execute_result"
    }
   ],
   "source": [
    "arr3d"
   ]
  },
  {
   "cell_type": "markdown",
   "id": "565bb8c3-ecbd-45e6-a69a-7c07a82c7afd",
   "metadata": {},
   "source": [
    "__np.zeros__"
   ]
  },
  {
   "cell_type": "code",
   "execution_count": 8,
   "id": "41fcd492-333a-4844-8d3e-6f92d0a27122",
   "metadata": {},
   "outputs": [],
   "source": [
    "arrZero1d = np.zeros(5)"
   ]
  },
  {
   "cell_type": "code",
   "execution_count": 9,
   "id": "dad8683a-d7ac-4cef-b1c1-c7a757599e2b",
   "metadata": {},
   "outputs": [
    {
     "data": {
      "text/plain": [
       "array([0., 0., 0., 0., 0.])"
      ]
     },
     "execution_count": 9,
     "metadata": {},
     "output_type": "execute_result"
    }
   ],
   "source": [
    "arrZero1d"
   ]
  },
  {
   "cell_type": "code",
   "execution_count": 10,
   "id": "45aac185-00fd-4df9-9191-6ae929f18d79",
   "metadata": {},
   "outputs": [],
   "source": [
    "arrZero2d = np.zeros((2,4))"
   ]
  },
  {
   "cell_type": "code",
   "execution_count": 11,
   "id": "e95e9fc2-728e-40db-8c04-a28604b93945",
   "metadata": {},
   "outputs": [
    {
     "data": {
      "text/plain": [
       "array([[0., 0., 0., 0.],\n",
       "       [0., 0., 0., 0.]])"
      ]
     },
     "execution_count": 11,
     "metadata": {},
     "output_type": "execute_result"
    }
   ],
   "source": [
    "arrZero2d"
   ]
  },
  {
   "cell_type": "code",
   "execution_count": 12,
   "id": "7717b927-1783-4ae9-a1d4-a4e202cb7b26",
   "metadata": {},
   "outputs": [],
   "source": [
    "arrZero3d = np.zeros((2,4,5))"
   ]
  },
  {
   "cell_type": "code",
   "execution_count": 13,
   "id": "7b67e26a-4f5c-4aa1-9878-6dd0d79a6e70",
   "metadata": {},
   "outputs": [
    {
     "data": {
      "text/plain": [
       "array([[[0., 0., 0., 0., 0.],\n",
       "        [0., 0., 0., 0., 0.],\n",
       "        [0., 0., 0., 0., 0.],\n",
       "        [0., 0., 0., 0., 0.]],\n",
       "\n",
       "       [[0., 0., 0., 0., 0.],\n",
       "        [0., 0., 0., 0., 0.],\n",
       "        [0., 0., 0., 0., 0.],\n",
       "        [0., 0., 0., 0., 0.]]])"
      ]
     },
     "execution_count": 13,
     "metadata": {},
     "output_type": "execute_result"
    }
   ],
   "source": [
    "arrZero3d"
   ]
  },
  {
   "cell_type": "markdown",
   "id": "ea0a8b83-d098-4cda-8f77-1f9ab670e9a4",
   "metadata": {},
   "source": [
    "__np.ones__"
   ]
  },
  {
   "cell_type": "code",
   "execution_count": 14,
   "id": "942e178b-f4ad-477c-af21-28191b71f5ee",
   "metadata": {},
   "outputs": [],
   "source": [
    "arrOnes1d = np.ones(5)"
   ]
  },
  {
   "cell_type": "code",
   "execution_count": 15,
   "id": "556a2f1e-927c-43e1-83ae-dbbcaa281bfb",
   "metadata": {},
   "outputs": [
    {
     "data": {
      "text/plain": [
       "array([1., 1., 1., 1., 1.])"
      ]
     },
     "execution_count": 15,
     "metadata": {},
     "output_type": "execute_result"
    }
   ],
   "source": [
    "arrOnes1d"
   ]
  },
  {
   "cell_type": "code",
   "execution_count": 16,
   "id": "9ff0f14e-f090-42d8-9558-7df7df433fc5",
   "metadata": {},
   "outputs": [],
   "source": [
    "arrOnes2d = np.ones((3,5))"
   ]
  },
  {
   "cell_type": "code",
   "execution_count": 17,
   "id": "b4899039-a09e-4811-b251-1f0c8d8513c3",
   "metadata": {},
   "outputs": [
    {
     "data": {
      "text/plain": [
       "array([[1., 1., 1., 1., 1.],\n",
       "       [1., 1., 1., 1., 1.],\n",
       "       [1., 1., 1., 1., 1.]])"
      ]
     },
     "execution_count": 17,
     "metadata": {},
     "output_type": "execute_result"
    }
   ],
   "source": [
    "arrOnes2d"
   ]
  },
  {
   "cell_type": "code",
   "execution_count": 18,
   "id": "4c46b9c9-4813-45b2-94ce-030527800730",
   "metadata": {},
   "outputs": [],
   "source": [
    "arrOnes3d = np.ones((2,3,4))"
   ]
  },
  {
   "cell_type": "code",
   "execution_count": 19,
   "id": "73d14bd3-4c2e-4a7f-932b-57ddd204e547",
   "metadata": {},
   "outputs": [
    {
     "data": {
      "text/plain": [
       "array([[[1., 1., 1., 1.],\n",
       "        [1., 1., 1., 1.],\n",
       "        [1., 1., 1., 1.]],\n",
       "\n",
       "       [[1., 1., 1., 1.],\n",
       "        [1., 1., 1., 1.],\n",
       "        [1., 1., 1., 1.]]])"
      ]
     },
     "execution_count": 19,
     "metadata": {},
     "output_type": "execute_result"
    }
   ],
   "source": [
    "arrOnes3d"
   ]
  },
  {
   "cell_type": "markdown",
   "id": "1ad1eb2b-a4bb-4459-be67-e81ab30deaf1",
   "metadata": {},
   "source": [
    "__np.eye(it only create 2d array for 1d flatten it and for 3d stack two diff)__"
   ]
  },
  {
   "cell_type": "code",
   "execution_count": 20,
   "id": "c1b51b45-11d4-4f6b-ac79-908ac79730f8",
   "metadata": {},
   "outputs": [],
   "source": [
    "arrEye =np.eye(3)"
   ]
  },
  {
   "cell_type": "code",
   "execution_count": 21,
   "id": "cfebe780-5b41-4337-a22f-f75bbbd8cd89",
   "metadata": {},
   "outputs": [
    {
     "data": {
      "text/plain": [
       "array([[1., 0., 0.],\n",
       "       [0., 1., 0.],\n",
       "       [0., 0., 1.]])"
      ]
     },
     "execution_count": 21,
     "metadata": {},
     "output_type": "execute_result"
    }
   ],
   "source": [
    "arrEye"
   ]
  },
  {
   "cell_type": "code",
   "execution_count": 22,
   "id": "b2581dcf-082f-4e7e-a4f9-ee1f8649e73f",
   "metadata": {},
   "outputs": [],
   "source": [
    "arrEye2 = np.eye(3)"
   ]
  },
  {
   "cell_type": "code",
   "execution_count": 23,
   "id": "fcd58207-2a24-4446-88a0-e8d0bf042b1c",
   "metadata": {},
   "outputs": [
    {
     "data": {
      "text/plain": [
       "array([[1., 0., 0.],\n",
       "       [0., 1., 0.],\n",
       "       [0., 0., 1.]])"
      ]
     },
     "execution_count": 23,
     "metadata": {},
     "output_type": "execute_result"
    }
   ],
   "source": [
    "arrEye2"
   ]
  },
  {
   "cell_type": "code",
   "execution_count": 24,
   "id": "69890714-4a53-4198-9429-d38a49b1c492",
   "metadata": {},
   "outputs": [],
   "source": [
    "three_d_array = np.stack((arrEye, arrEye2))"
   ]
  },
  {
   "cell_type": "code",
   "execution_count": 25,
   "id": "147e31db-4165-456b-80f2-e759dc14f092",
   "metadata": {},
   "outputs": [
    {
     "data": {
      "text/plain": [
       "array([[[1., 0., 0.],\n",
       "        [0., 1., 0.],\n",
       "        [0., 0., 1.]],\n",
       "\n",
       "       [[1., 0., 0.],\n",
       "        [0., 1., 0.],\n",
       "        [0., 0., 1.]]])"
      ]
     },
     "execution_count": 25,
     "metadata": {},
     "output_type": "execute_result"
    }
   ],
   "source": [
    "three_d_array"
   ]
  },
  {
   "cell_type": "markdown",
   "id": "db507837-c6bb-4b33-bfeb-6bd04811186a",
   "metadata": {},
   "source": [
    "__np.full((size),value)__"
   ]
  },
  {
   "cell_type": "code",
   "execution_count": 26,
   "id": "61cc8243-b6e7-44ef-89ca-e5c0c8fb4966",
   "metadata": {},
   "outputs": [],
   "source": [
    "arrFull = np.full((2,3,4),8)"
   ]
  },
  {
   "cell_type": "code",
   "execution_count": 27,
   "id": "84230075-2329-4af6-ac20-8eba27fc537c",
   "metadata": {},
   "outputs": [
    {
     "data": {
      "text/plain": [
       "array([[[8, 8, 8, 8],\n",
       "        [8, 8, 8, 8],\n",
       "        [8, 8, 8, 8]],\n",
       "\n",
       "       [[8, 8, 8, 8],\n",
       "        [8, 8, 8, 8],\n",
       "        [8, 8, 8, 8]]])"
      ]
     },
     "execution_count": 27,
     "metadata": {},
     "output_type": "execute_result"
    }
   ],
   "source": [
    "arrFull"
   ]
  },
  {
   "cell_type": "markdown",
   "id": "790da17d-d4a7-4b9b-89e3-7ed96e177adc",
   "metadata": {},
   "source": [
    "__np.random.rand() Create array filled with random values between [0 to 1)__"
   ]
  },
  {
   "cell_type": "code",
   "execution_count": 28,
   "id": "d642e9cf-cd37-4edb-aa9e-ccd4d33e5f88",
   "metadata": {},
   "outputs": [],
   "source": [
    "arrRan = np.random.rand(2,2,3)"
   ]
  },
  {
   "cell_type": "code",
   "execution_count": 29,
   "id": "60e2ae44-e3bb-44bb-b042-ca8fd7eff5b2",
   "metadata": {},
   "outputs": [
    {
     "data": {
      "text/plain": [
       "array([[[0.73216924, 0.31854212, 0.04101147],\n",
       "        [0.44447446, 0.02671491, 0.92266105]],\n",
       "\n",
       "       [[0.15038415, 0.54814057, 0.76770405],\n",
       "        [0.57978379, 0.4040044 , 0.52957708]]])"
      ]
     },
     "execution_count": 29,
     "metadata": {},
     "output_type": "execute_result"
    }
   ],
   "source": [
    "arrRan"
   ]
  },
  {
   "cell_type": "markdown",
   "id": "ad832198-33f0-4d44-9b48-d566e45cfc7d",
   "metadata": {},
   "source": [
    "__np.arange create an array with a range numpy.arange(start,stop, step, dtype=None)__ cant create 3d array with that you can reshape it"
   ]
  },
  {
   "cell_type": "code",
   "execution_count": 30,
   "id": "c3acec27-23d2-415e-8dda-5735efd53bab",
   "metadata": {},
   "outputs": [],
   "source": [
    "arrArange = np.arange(0,8,)"
   ]
  },
  {
   "cell_type": "code",
   "execution_count": 31,
   "id": "c38bd376-5668-420c-9092-ac09a2cafdab",
   "metadata": {},
   "outputs": [
    {
     "data": {
      "text/plain": [
       "array([0, 1, 2, 3, 4, 5, 6, 7])"
      ]
     },
     "execution_count": 31,
     "metadata": {},
     "output_type": "execute_result"
    }
   ],
   "source": [
    "arrArange"
   ]
  },
  {
   "cell_type": "code",
   "execution_count": 32,
   "id": "ca9f3a51-d8a9-41e5-b930-31dd7f3b17eb",
   "metadata": {},
   "outputs": [],
   "source": [
    "arrRes = arrArange.reshape(2,2,2)"
   ]
  },
  {
   "cell_type": "code",
   "execution_count": 33,
   "id": "02fc3592-68fd-416b-aeea-c2b9f40c0715",
   "metadata": {},
   "outputs": [
    {
     "data": {
      "text/plain": [
       "array([[[0, 1],\n",
       "        [2, 3]],\n",
       "\n",
       "       [[4, 5],\n",
       "        [6, 7]]])"
      ]
     },
     "execution_count": 33,
     "metadata": {},
     "output_type": "execute_result"
    }
   ],
   "source": [
    "arrRes"
   ]
  },
  {
   "cell_type": "markdown",
   "id": "291bec47-242e-4e89-99c9-ece3cce07265",
   "metadata": {},
   "source": [
    "__np.linspace(): create evenly spaced numbers__"
   ]
  },
  {
   "cell_type": "code",
   "execution_count": 34,
   "id": "02b3aa06-7ca6-49c8-a55a-84f5c4e1c060",
   "metadata": {},
   "outputs": [
    {
     "data": {
      "text/plain": [
       "'python\\nCopy code\\nnumpy.linspace(start, stop, num=50, endpoint=True, retstep=False, dtype=None)\\nParameters:\\nstart: The starting value of the sequence (inclusive).\\nstop: The end value of the sequence (inclusive by default).\\nnum (optional): The number of samples to generate. The default is 50.\\nendpoint (optional): A boolean that determines whether to include the stop value in the output. The default is True.\\n'"
      ]
     },
     "execution_count": 34,
     "metadata": {},
     "output_type": "execute_result"
    }
   ],
   "source": [
    "'''python\n",
    "Copy code\n",
    "numpy.linspace(start, stop, num=50, endpoint=True, retstep=False, dtype=None)\n",
    "Parameters:\n",
    "start: The starting value of the sequence (inclusive).\n",
    "stop: The end value of the sequence (inclusive by default).\n",
    "num (optional): The number of samples to generate. The default is 50.\n",
    "endpoint (optional): A boolean that determines whether to include the stop value in the output. The default is True.\n",
    "'''"
   ]
  },
  {
   "cell_type": "code",
   "execution_count": 35,
   "id": "182d0950-ba46-4a72-a7b6-90e24b856d20",
   "metadata": {},
   "outputs": [],
   "source": [
    "arrLinspace = np.linspace(0,50,11)"
   ]
  },
  {
   "cell_type": "code",
   "execution_count": 36,
   "id": "a0cef6cf-5644-4e04-b069-a73b5c250488",
   "metadata": {},
   "outputs": [
    {
     "data": {
      "text/plain": [
       "array([ 0.,  5., 10., 15., 20., 25., 30., 35., 40., 45., 50.])"
      ]
     },
     "execution_count": 36,
     "metadata": {},
     "output_type": "execute_result"
    }
   ],
   "source": [
    "arrLinspace"
   ]
  },
  {
   "cell_type": "markdown",
   "id": "aa5fe03d-5850-4a20-891d-dd2722b98113",
   "metadata": {},
   "source": [
    "### Array Attributes"
   ]
  },
  {
   "cell_type": "markdown",
   "id": "98247443-23ff-4739-b411-519ac6b77799",
   "metadata": {},
   "source": [
    "__Return Shape__"
   ]
  },
  {
   "cell_type": "code",
   "execution_count": 37,
   "id": "2f02a61b-5328-4120-be11-4b1cc4cb03bc",
   "metadata": {},
   "outputs": [
    {
     "data": {
      "text/plain": [
       "(3,)"
      ]
     },
     "execution_count": 37,
     "metadata": {},
     "output_type": "execute_result"
    }
   ],
   "source": [
    "arr.shape"
   ]
  },
  {
   "cell_type": "code",
   "execution_count": 38,
   "id": "7d16eed7-d115-453c-aee1-7e45899fa4ac",
   "metadata": {},
   "outputs": [
    {
     "data": {
      "text/plain": [
       "(3, 3)"
      ]
     },
     "execution_count": 38,
     "metadata": {},
     "output_type": "execute_result"
    }
   ],
   "source": [
    "arr2d.shape"
   ]
  },
  {
   "cell_type": "code",
   "execution_count": 39,
   "id": "9b236152-ec64-4117-83d0-81efcc7c7832",
   "metadata": {},
   "outputs": [
    {
     "data": {
      "text/plain": [
       "(2, 3, 3)"
      ]
     },
     "execution_count": 39,
     "metadata": {},
     "output_type": "execute_result"
    }
   ],
   "source": [
    "arr3d.shape"
   ]
  },
  {
   "cell_type": "markdown",
   "id": "35738a41-bd90-4380-b542-e7b3663a609d",
   "metadata": {},
   "source": [
    "__arr.size__"
   ]
  },
  {
   "cell_type": "code",
   "execution_count": 40,
   "id": "355655dc-d462-46e7-b306-67ee486bb84e",
   "metadata": {},
   "outputs": [
    {
     "data": {
      "text/plain": [
       "3"
      ]
     },
     "execution_count": 40,
     "metadata": {},
     "output_type": "execute_result"
    }
   ],
   "source": [
    "arr.size"
   ]
  },
  {
   "cell_type": "code",
   "execution_count": 41,
   "id": "a6c3f055-746b-4adc-915e-d4adc61108ab",
   "metadata": {},
   "outputs": [
    {
     "data": {
      "text/plain": [
       "9"
      ]
     },
     "execution_count": 41,
     "metadata": {},
     "output_type": "execute_result"
    }
   ],
   "source": [
    "arr2d.size"
   ]
  },
  {
   "cell_type": "code",
   "execution_count": 42,
   "id": "ea1eeda2-564a-4153-a749-2a1aaf728f12",
   "metadata": {},
   "outputs": [
    {
     "data": {
      "text/plain": [
       "18"
      ]
     },
     "execution_count": 42,
     "metadata": {},
     "output_type": "execute_result"
    }
   ],
   "source": [
    "arr3d.size"
   ]
  },
  {
   "cell_type": "markdown",
   "id": "d08f4fb2-9afb-455d-8729-87f5ebf9fee5",
   "metadata": {},
   "source": [
    "__arr.ndim__"
   ]
  },
  {
   "cell_type": "code",
   "execution_count": 43,
   "id": "ed46a18b-78b1-4d2a-adbd-52fdb735f6a7",
   "metadata": {},
   "outputs": [
    {
     "data": {
      "text/plain": [
       "1"
      ]
     },
     "execution_count": 43,
     "metadata": {},
     "output_type": "execute_result"
    }
   ],
   "source": [
    "arr.ndim"
   ]
  },
  {
   "cell_type": "code",
   "execution_count": 44,
   "id": "5a756ccf-cc34-4108-8971-36ae2c4b0d54",
   "metadata": {},
   "outputs": [
    {
     "data": {
      "text/plain": [
       "2"
      ]
     },
     "execution_count": 44,
     "metadata": {},
     "output_type": "execute_result"
    }
   ],
   "source": [
    "arr2d.ndim"
   ]
  },
  {
   "cell_type": "code",
   "execution_count": 45,
   "id": "190d5967-3d52-4f1b-8476-709977f5388f",
   "metadata": {},
   "outputs": [
    {
     "data": {
      "text/plain": [
       "3"
      ]
     },
     "execution_count": 45,
     "metadata": {},
     "output_type": "execute_result"
    }
   ],
   "source": [
    "arr3d.ndim"
   ]
  },
  {
   "cell_type": "markdown",
   "id": "1090d701-271b-4926-8e13-4cc3a0c47363",
   "metadata": {},
   "source": [
    "__arr.dtype__"
   ]
  },
  {
   "cell_type": "code",
   "execution_count": 46,
   "id": "56ce75b7-540b-4ee6-a771-4299d87076e7",
   "metadata": {},
   "outputs": [
    {
     "data": {
      "text/plain": [
       "dtype('int32')"
      ]
     },
     "execution_count": 46,
     "metadata": {},
     "output_type": "execute_result"
    }
   ],
   "source": [
    "arr.dtype"
   ]
  },
  {
   "cell_type": "code",
   "execution_count": 47,
   "id": "5e5e74f4-06b1-408f-86d1-0ba496ea0e07",
   "metadata": {},
   "outputs": [
    {
     "data": {
      "text/plain": [
       "dtype('int32')"
      ]
     },
     "execution_count": 47,
     "metadata": {},
     "output_type": "execute_result"
    }
   ],
   "source": [
    "arr2d.dtype"
   ]
  },
  {
   "cell_type": "markdown",
   "id": "a2500af0-c82f-481b-88c5-4dbb3d9e6a6b",
   "metadata": {},
   "source": [
    "__arr.itemsize(Size of element in bytes)__"
   ]
  },
  {
   "cell_type": "code",
   "execution_count": 48,
   "id": "ad47288a-768a-4208-9e92-aabf116dddee",
   "metadata": {},
   "outputs": [
    {
     "data": {
      "text/plain": [
       "4"
      ]
     },
     "execution_count": 48,
     "metadata": {},
     "output_type": "execute_result"
    }
   ],
   "source": [
    "arr.itemsize"
   ]
  },
  {
   "cell_type": "markdown",
   "id": "062bb6de-afe1-4d68-9d9c-228abc30ad66",
   "metadata": {},
   "source": [
    "### Reshaping and transposing arrays"
   ]
  },
  {
   "cell_type": "markdown",
   "id": "3f99a26d-f657-4e0b-9310-d4697294c119",
   "metadata": {},
   "source": [
    "__arr.reshape__"
   ]
  },
  {
   "cell_type": "code",
   "execution_count": 49,
   "id": "d6907668-3d72-4a2e-af6c-a6ac32ad2fd0",
   "metadata": {},
   "outputs": [],
   "source": [
    "arrArange = np.arange(0,16)"
   ]
  },
  {
   "cell_type": "code",
   "execution_count": 50,
   "id": "9ac058fa-0e60-476d-ac4a-e1605bc444df",
   "metadata": {},
   "outputs": [
    {
     "data": {
      "text/plain": [
       "array([ 0,  1,  2,  3,  4,  5,  6,  7,  8,  9, 10, 11, 12, 13, 14, 15])"
      ]
     },
     "execution_count": 50,
     "metadata": {},
     "output_type": "execute_result"
    }
   ],
   "source": [
    "arrArange"
   ]
  },
  {
   "cell_type": "code",
   "execution_count": 51,
   "id": "cba7de25-c445-42eb-b734-1663d9b909bd",
   "metadata": {},
   "outputs": [
    {
     "data": {
      "text/plain": [
       "array([[[ 0,  1,  2,  3],\n",
       "        [ 4,  5,  6,  7]],\n",
       "\n",
       "       [[ 8,  9, 10, 11],\n",
       "        [12, 13, 14, 15]]])"
      ]
     },
     "execution_count": 51,
     "metadata": {},
     "output_type": "execute_result"
    }
   ],
   "source": [
    "arrArange.reshape(2,2,4)"
   ]
  },
  {
   "cell_type": "code",
   "execution_count": 52,
   "id": "1b845a0d-b808-4e9b-86b5-a506963b40bd",
   "metadata": {},
   "outputs": [
    {
     "data": {
      "text/plain": [
       "array([[1, 2, 3],\n",
       "       [4, 6, 5],\n",
       "       [8, 7, 9]])"
      ]
     },
     "execution_count": 52,
     "metadata": {},
     "output_type": "execute_result"
    }
   ],
   "source": [
    "arr2d"
   ]
  },
  {
   "cell_type": "code",
   "execution_count": 53,
   "id": "9001c7a8-8b98-4955-b33a-1ad19a3b2fff",
   "metadata": {},
   "outputs": [
    {
     "data": {
      "text/plain": [
       "array([[1, 4, 8],\n",
       "       [2, 6, 7],\n",
       "       [3, 5, 9]])"
      ]
     },
     "execution_count": 53,
     "metadata": {},
     "output_type": "execute_result"
    }
   ],
   "source": [
    "arr2d.T"
   ]
  },
  {
   "cell_type": "code",
   "execution_count": 54,
   "id": "6b9bdaad-ad9a-4d9c-b2e2-e8683f12088b",
   "metadata": {},
   "outputs": [
    {
     "data": {
      "text/plain": [
       "array([ 0,  1,  2,  3,  4,  5,  6,  7,  8,  9, 10, 11, 12, 13, 14, 15])"
      ]
     },
     "execution_count": 54,
     "metadata": {},
     "output_type": "execute_result"
    }
   ],
   "source": [
    "arrArange.T #Doesnt transpose 1d array"
   ]
  },
  {
   "cell_type": "markdown",
   "id": "189be740-fad3-4014-98a4-782544fc8809",
   "metadata": {},
   "source": [
    "### Mathematical Operations"
   ]
  },
  {
   "cell_type": "code",
   "execution_count": 55,
   "id": "3b73f761-6ef8-4cf2-a0f5-72346707b5c6",
   "metadata": {},
   "outputs": [],
   "source": [
    "arr = np.array([[1,2,3],[4,5,6],[7,8,9]])"
   ]
  },
  {
   "cell_type": "code",
   "execution_count": 56,
   "id": "95fc7510-5b34-4cf8-bd26-3deb020edd55",
   "metadata": {},
   "outputs": [],
   "source": [
    "arr2 = np.array([[9,8,7],[6,5,4],[3,2,1]])"
   ]
  },
  {
   "cell_type": "markdown",
   "id": "77b68875-4160-4be6-b0e9-6f494331f2c6",
   "metadata": {},
   "source": [
    "__np.add__"
   ]
  },
  {
   "cell_type": "code",
   "execution_count": 57,
   "id": "26871ea4-ea32-4e06-acb7-23d1643fb86c",
   "metadata": {},
   "outputs": [
    {
     "name": "stdout",
     "output_type": "stream",
     "text": [
      "[[1 2 3]\n",
      " [4 5 6]\n",
      " [7 8 9]] + \n",
      " [[9 8 7]\n",
      " [6 5 4]\n",
      " [3 2 1]] = \n",
      " [[10 10 10]\n",
      " [10 10 10]\n",
      " [10 10 10]]\n"
     ]
    }
   ],
   "source": [
    "print(f\"{arr} + \\n {arr2} = \\n {np.add(arr,arr2)}\")"
   ]
  },
  {
   "cell_type": "markdown",
   "id": "3e853c37-b57e-423f-b18a-62cc4510a461",
   "metadata": {},
   "source": [
    "__np.subtract()__"
   ]
  },
  {
   "cell_type": "code",
   "execution_count": 58,
   "id": "2a868efc-bbb0-4b5a-8c74-c13048d555bb",
   "metadata": {},
   "outputs": [
    {
     "name": "stdout",
     "output_type": "stream",
     "text": [
      "[[1 2 3]\n",
      " [4 5 6]\n",
      " [7 8 9]] + \n",
      " [[9 8 7]\n",
      " [6 5 4]\n",
      " [3 2 1]] = \n",
      " [[-8 -6 -4]\n",
      " [-2  0  2]\n",
      " [ 4  6  8]]\n"
     ]
    }
   ],
   "source": [
    "print(f\"{arr} + \\n {arr2} = \\n {np.subtract(arr,arr2)}\")"
   ]
  },
  {
   "cell_type": "markdown",
   "id": "6087425a-3910-4481-a37e-49ea65405b9d",
   "metadata": {},
   "source": [
    "__np.multiply__"
   ]
  },
  {
   "cell_type": "code",
   "execution_count": 59,
   "id": "b20d80b0-abc4-454c-bc22-1d1bc295b0ea",
   "metadata": {},
   "outputs": [
    {
     "name": "stdout",
     "output_type": "stream",
     "text": [
      "[[1 2 3]\n",
      " [4 5 6]\n",
      " [7 8 9]] + \n",
      " [[9 8 7]\n",
      " [6 5 4]\n",
      " [3 2 1]] = \n",
      " [[ 9 16 21]\n",
      " [24 25 24]\n",
      " [21 16  9]]\n"
     ]
    }
   ],
   "source": [
    "print(f\"{arr} + \\n {arr2} = \\n {np.multiply(arr,arr2)}\")"
   ]
  },
  {
   "cell_type": "markdown",
   "id": "1c487e48-4a79-432d-9740-11139607b652",
   "metadata": {},
   "source": [
    "__np.dot__"
   ]
  },
  {
   "cell_type": "code",
   "execution_count": 60,
   "id": "8b9dc93a-6ab0-431b-b28f-3a4119611d4b",
   "metadata": {},
   "outputs": [
    {
     "name": "stdout",
     "output_type": "stream",
     "text": [
      "[[1 2 3]\n",
      " [4 5 6]\n",
      " [7 8 9]] + \n",
      " [[9 8 7]\n",
      " [6 5 4]\n",
      " [3 2 1]] = \n",
      " [[ 30  24  18]\n",
      " [ 84  69  54]\n",
      " [138 114  90]]\n"
     ]
    }
   ],
   "source": [
    "print(f\"{arr} + \\n {arr2} = \\n {np.dot(arr,arr2)}\")"
   ]
  },
  {
   "cell_type": "code",
   "execution_count": 61,
   "id": "a8e2ba9f-cf3a-41ca-be8a-ef49ae2ec7aa",
   "metadata": {},
   "outputs": [
    {
     "name": "stdout",
     "output_type": "stream",
     "text": [
      "[[1 2 3]\n",
      " [4 5 6]\n",
      " [7 8 9]] + \n",
      " [[9 8 7]\n",
      " [6 5 4]\n",
      " [3 2 1]] = \n",
      " [[ 30  24  18]\n",
      " [ 84  69  54]\n",
      " [138 114  90]]\n"
     ]
    }
   ],
   "source": [
    "print(f\"{arr} + \\n {arr2} = \\n {arr@arr2}\")"
   ]
  },
  {
   "cell_type": "markdown",
   "id": "94305057-bf51-4dee-b515-8ba4a4a0ef3e",
   "metadata": {},
   "source": [
    "__np.sum__"
   ]
  },
  {
   "cell_type": "code",
   "execution_count": 62,
   "id": "5ec1e1b5-6c97-43e6-b864-6e0e97d8f374",
   "metadata": {},
   "outputs": [
    {
     "data": {
      "text/plain": [
       "45"
      ]
     },
     "execution_count": 62,
     "metadata": {},
     "output_type": "execute_result"
    }
   ],
   "source": [
    "np.sum(arr)"
   ]
  },
  {
   "cell_type": "code",
   "execution_count": 63,
   "id": "66d14e48-d16f-41c2-9bb4-909afe3b16f2",
   "metadata": {},
   "outputs": [
    {
     "data": {
      "text/plain": [
       "5.0"
      ]
     },
     "execution_count": 63,
     "metadata": {},
     "output_type": "execute_result"
    }
   ],
   "source": [
    "np.mean(arr)"
   ]
  },
  {
   "cell_type": "code",
   "execution_count": 64,
   "id": "f9fb9949-ec7a-4bbe-8b22-2fcf4e645eb9",
   "metadata": {},
   "outputs": [
    {
     "data": {
      "text/plain": [
       "1"
      ]
     },
     "execution_count": 64,
     "metadata": {},
     "output_type": "execute_result"
    }
   ],
   "source": [
    "np.min(arr)"
   ]
  },
  {
   "cell_type": "code",
   "execution_count": 65,
   "id": "e0f24a99-5e9e-456e-b971-761908059815",
   "metadata": {},
   "outputs": [
    {
     "data": {
      "text/plain": [
       "9"
      ]
     },
     "execution_count": 65,
     "metadata": {},
     "output_type": "execute_result"
    }
   ],
   "source": [
    "np.max(arr)"
   ]
  },
  {
   "cell_type": "code",
   "execution_count": 66,
   "id": "b501ae30-c4ad-4d53-8eb0-49ba3d5c5a3a",
   "metadata": {},
   "outputs": [
    {
     "data": {
      "text/plain": [
       "array([[1.        , 1.41421356, 1.73205081],\n",
       "       [2.        , 2.23606798, 2.44948974],\n",
       "       [2.64575131, 2.82842712, 3.        ]])"
      ]
     },
     "execution_count": 66,
     "metadata": {},
     "output_type": "execute_result"
    }
   ],
   "source": [
    "np.sqrt(arr)"
   ]
  },
  {
   "cell_type": "code",
   "execution_count": 67,
   "id": "4bdb8b07-65a6-47bf-9b34-4a672cb955ce",
   "metadata": {},
   "outputs": [
    {
     "data": {
      "text/plain": [
       "array([[0.        , 0.69314718, 1.09861229],\n",
       "       [1.38629436, 1.60943791, 1.79175947],\n",
       "       [1.94591015, 2.07944154, 2.19722458]])"
      ]
     },
     "execution_count": 67,
     "metadata": {},
     "output_type": "execute_result"
    }
   ],
   "source": [
    "np.log(arr)"
   ]
  },
  {
   "cell_type": "markdown",
   "id": "5fe1346a-1d7f-4779-ba8c-3a98eb37425c",
   "metadata": {},
   "source": [
    "### Sorting and Searching"
   ]
  },
  {
   "cell_type": "code",
   "execution_count": 68,
   "id": "50a355d3-8531-44dd-9f96-ce08b6ee6865",
   "metadata": {},
   "outputs": [],
   "source": [
    "arr = np.array([[3,43,1],[8,3,55],[422,4,2]])"
   ]
  },
  {
   "cell_type": "code",
   "execution_count": 69,
   "id": "a7e5d7b4-35d7-4473-9382-ca6eb29293da",
   "metadata": {},
   "outputs": [
    {
     "data": {
      "text/plain": [
       "array([[  3,  43,   1],\n",
       "       [  8,   3,  55],\n",
       "       [422,   4,   2]])"
      ]
     },
     "execution_count": 69,
     "metadata": {},
     "output_type": "execute_result"
    }
   ],
   "source": [
    "arr"
   ]
  },
  {
   "cell_type": "code",
   "execution_count": 70,
   "id": "3bcd64bc-e153-4a8d-95de-6d8e0de062c8",
   "metadata": {},
   "outputs": [
    {
     "data": {
      "text/plain": [
       "array([[  1,   3,  43],\n",
       "       [  3,   8,  55],\n",
       "       [  2,   4, 422]])"
      ]
     },
     "execution_count": 70,
     "metadata": {},
     "output_type": "execute_result"
    }
   ],
   "source": [
    "np.sort(arr) #Sort each row"
   ]
  },
  {
   "cell_type": "code",
   "execution_count": 71,
   "id": "f0463296-c0ae-4aee-ab4c-1651a81acb27",
   "metadata": {},
   "outputs": [
    {
     "data": {
      "text/plain": [
       "array([[2, 0, 1],\n",
       "       [1, 0, 2],\n",
       "       [2, 1, 0]], dtype=int64)"
      ]
     },
     "execution_count": 71,
     "metadata": {},
     "output_type": "execute_result"
    }
   ],
   "source": [
    "np.argsort(arr) #return argument in which sorting will be good or at what place which index"
   ]
  },
  {
   "cell_type": "code",
   "execution_count": 72,
   "id": "2b45b34c-acc5-436a-b591-543a3e05fb53",
   "metadata": {},
   "outputs": [
    {
     "data": {
      "text/plain": [
       "6"
      ]
     },
     "execution_count": 72,
     "metadata": {},
     "output_type": "execute_result"
    }
   ],
   "source": [
    "np.argmax(arr) # it flatten the matrix first and cal index then"
   ]
  },
  {
   "cell_type": "code",
   "execution_count": 73,
   "id": "52f8cab4-fe55-4b67-9110-f25aa16fef00",
   "metadata": {},
   "outputs": [
    {
     "data": {
      "text/plain": [
       "array([[[ 1,  2,  3],\n",
       "        [ 4,  6,  5],\n",
       "        [ 8,  7,  9]],\n",
       "\n",
       "       [[11, 12, 13],\n",
       "        [14, 16, 15],\n",
       "        [18, 17, 19]]])"
      ]
     },
     "execution_count": 73,
     "metadata": {},
     "output_type": "execute_result"
    }
   ],
   "source": [
    "arr3d"
   ]
  },
  {
   "cell_type": "code",
   "execution_count": 74,
   "id": "cbbf42ad-cd9f-4113-ad29-61dcc4c0321a",
   "metadata": {},
   "outputs": [
    {
     "data": {
      "text/plain": [
       "17"
      ]
     },
     "execution_count": 74,
     "metadata": {},
     "output_type": "execute_result"
    }
   ],
   "source": [
    "np.argmax(arr3d)"
   ]
  },
  {
   "cell_type": "code",
   "execution_count": 75,
   "id": "0b521aa0-39db-43fa-a5ca-1da9ff06c861",
   "metadata": {},
   "outputs": [
    {
     "data": {
      "text/plain": [
       "2"
      ]
     },
     "execution_count": 75,
     "metadata": {},
     "output_type": "execute_result"
    }
   ],
   "source": [
    "np.argmin(arr)"
   ]
  },
  {
   "cell_type": "code",
   "execution_count": 76,
   "id": "60875472-40f1-4677-ad9b-f45d6dd25855",
   "metadata": {},
   "outputs": [
    {
     "data": {
      "text/plain": [
       "array([[1, 2, 3],\n",
       "       [4, 6, 5],\n",
       "       [8, 7, 9]])"
      ]
     },
     "execution_count": 76,
     "metadata": {},
     "output_type": "execute_result"
    }
   ],
   "source": [
    "arr2d"
   ]
  },
  {
   "cell_type": "code",
   "execution_count": 77,
   "id": "32cac830-8c63-4bca-a7ea-42b0a6d5df99",
   "metadata": {},
   "outputs": [
    {
     "data": {
      "text/plain": [
       "(array([1, 2, 2, 2], dtype=int64), array([1, 0, 1, 2], dtype=int64))"
      ]
     },
     "execution_count": 77,
     "metadata": {},
     "output_type": "execute_result"
    }
   ],
   "source": [
    "np.where(arr2d>5) # column index and second array of row index"
   ]
  },
  {
   "cell_type": "markdown",
   "id": "398caa1d-4c17-4796-81af-1d8bfcaafb6c",
   "metadata": {},
   "source": [
    "### Random Module"
   ]
  },
  {
   "cell_type": "code",
   "execution_count": 78,
   "id": "929daf34-7a9e-4e85-bdc6-5096d73bcbc6",
   "metadata": {},
   "outputs": [
    {
     "data": {
      "text/plain": [
       "array([[0.35443482, 0.30752919],\n",
       "       [0.55059067, 0.30511541]])"
      ]
     },
     "execution_count": 78,
     "metadata": {},
     "output_type": "execute_result"
    }
   ],
   "source": [
    "np.random.rand(2,2) #same as np.random.random((2,2))"
   ]
  },
  {
   "cell_type": "code",
   "execution_count": 79,
   "id": "127f8429-1cad-421e-b256-d69542e6fb39",
   "metadata": {},
   "outputs": [
    {
     "data": {
      "text/plain": [
       "array([[5, 8, 7],\n",
       "       [7, 5, 8]])"
      ]
     },
     "execution_count": 79,
     "metadata": {},
     "output_type": "execute_result"
    }
   ],
   "source": [
    "np.random.randint(5,9,size=(2,3)) # np.random.randint(start,end,size=(c*r))"
   ]
  },
  {
   "cell_type": "code",
   "execution_count": 80,
   "id": "ac105093-2414-4e55-8daa-379cd2a52977",
   "metadata": {},
   "outputs": [],
   "source": [
    "arr = np.arange(0,10)"
   ]
  },
  {
   "cell_type": "code",
   "execution_count": 81,
   "id": "598608b4-7436-4ab9-bc5f-af924d66f4b7",
   "metadata": {},
   "outputs": [
    {
     "data": {
      "text/plain": [
       "8"
      ]
     },
     "execution_count": 81,
     "metadata": {},
     "output_type": "execute_result"
    }
   ],
   "source": [
    "np.random.choice(arr) #Choose ranom element form array"
   ]
  },
  {
   "cell_type": "code",
   "execution_count": 82,
   "id": "588dd383-782c-405e-a027-3b89c1ec29bb",
   "metadata": {},
   "outputs": [
    {
     "data": {
      "text/plain": [
       "array([[9, 8, 7],\n",
       "       [6, 5, 4],\n",
       "       [3, 2, 1]])"
      ]
     },
     "execution_count": 82,
     "metadata": {},
     "output_type": "execute_result"
    }
   ],
   "source": [
    "arr2"
   ]
  },
  {
   "cell_type": "code",
   "execution_count": 83,
   "id": "eb087b57-bba3-4903-ae93-50be24a378e1",
   "metadata": {},
   "outputs": [],
   "source": [
    "np.random.shuffle(arr2)"
   ]
  },
  {
   "cell_type": "code",
   "execution_count": 84,
   "id": "d0b25a8f-de05-470d-855b-7eedce1168cf",
   "metadata": {},
   "outputs": [
    {
     "data": {
      "text/plain": [
       "array([[6, 5, 4],\n",
       "       [3, 2, 1],\n",
       "       [9, 8, 7]])"
      ]
     },
     "execution_count": 84,
     "metadata": {},
     "output_type": "execute_result"
    }
   ],
   "source": [
    "\n",
    "arr2"
   ]
  },
  {
   "cell_type": "markdown",
   "id": "ffd3c842-1730-4deb-b608-0bfa7d164b4c",
   "metadata": {},
   "source": [
    "### Statistical Functions"
   ]
  },
  {
   "cell_type": "code",
   "execution_count": 85,
   "id": "0e3d109f-ac92-4b2c-9f77-395b113644ba",
   "metadata": {},
   "outputs": [],
   "source": [
    "arr = np.arange(0,10)"
   ]
  },
  {
   "cell_type": "code",
   "execution_count": 86,
   "id": "7fe50fea-eed0-42cd-96a4-7adaf5219c5f",
   "metadata": {},
   "outputs": [
    {
     "data": {
      "text/plain": [
       "array([0, 1, 2, 3, 4, 5, 6, 7, 8, 9])"
      ]
     },
     "execution_count": 86,
     "metadata": {},
     "output_type": "execute_result"
    }
   ],
   "source": [
    "arr"
   ]
  },
  {
   "cell_type": "code",
   "execution_count": 87,
   "id": "0b82de84-cdeb-4faf-bb2f-395f7cdabeb1",
   "metadata": {},
   "outputs": [
    {
     "data": {
      "text/plain": [
       "4.5"
      ]
     },
     "execution_count": 87,
     "metadata": {},
     "output_type": "execute_result"
    }
   ],
   "source": [
    "np.mean(arr)"
   ]
  },
  {
   "cell_type": "code",
   "execution_count": 88,
   "id": "bc821252-1ff7-41c8-8f34-1be6f69f29c5",
   "metadata": {},
   "outputs": [
    {
     "data": {
      "text/plain": [
       "array([[1, 2, 3],\n",
       "       [4, 6, 5],\n",
       "       [8, 7, 9]])"
      ]
     },
     "execution_count": 88,
     "metadata": {},
     "output_type": "execute_result"
    }
   ],
   "source": [
    "arr2d"
   ]
  },
  {
   "cell_type": "code",
   "execution_count": 89,
   "id": "8f0f0876-2020-4555-8ba6-66feee33379e",
   "metadata": {},
   "outputs": [
    {
     "data": {
      "text/plain": [
       "5.0"
      ]
     },
     "execution_count": 89,
     "metadata": {},
     "output_type": "execute_result"
    }
   ],
   "source": [
    "np.mean(arr2d)"
   ]
  },
  {
   "cell_type": "code",
   "execution_count": 90,
   "id": "b141d328-1515-42ae-97db-7414cc325ffe",
   "metadata": {},
   "outputs": [
    {
     "data": {
      "text/plain": [
       "5.0"
      ]
     },
     "execution_count": 90,
     "metadata": {},
     "output_type": "execute_result"
    }
   ],
   "source": [
    "np.median(arr2d)"
   ]
  },
  {
   "cell_type": "code",
   "execution_count": 91,
   "id": "d100b6d4-3758-472d-a8d7-1fe7ce24181d",
   "metadata": {},
   "outputs": [
    {
     "data": {
      "text/plain": [
       "2.581988897471611"
      ]
     },
     "execution_count": 91,
     "metadata": {},
     "output_type": "execute_result"
    }
   ],
   "source": [
    "np.std(arr2d)"
   ]
  },
  {
   "cell_type": "code",
   "execution_count": 92,
   "id": "f2f434d1-949e-4862-896e-54d1c67d6c18",
   "metadata": {},
   "outputs": [
    {
     "data": {
      "text/plain": [
       "6.666666666666667"
      ]
     },
     "execution_count": 92,
     "metadata": {},
     "output_type": "execute_result"
    }
   ],
   "source": [
    "np.var(arr2d)"
   ]
  },
  {
   "cell_type": "markdown",
   "id": "7c080cfd-90f5-4eb9-a475-dc88a6e13f30",
   "metadata": {},
   "source": [
    "### Broadcasting and Vectorization"
   ]
  },
  {
   "cell_type": "code",
   "execution_count": 93,
   "id": "3e0a2637-378f-4299-af16-4be3cd38ef60",
   "metadata": {},
   "outputs": [
    {
     "data": {
      "text/plain": [
       "array([[1, 2, 3],\n",
       "       [4, 6, 5],\n",
       "       [8, 7, 9]])"
      ]
     },
     "execution_count": 93,
     "metadata": {},
     "output_type": "execute_result"
    }
   ],
   "source": [
    "arr2d"
   ]
  },
  {
   "cell_type": "code",
   "execution_count": 94,
   "id": "80af7436-42ff-4b1a-a5be-60e449dcc9a3",
   "metadata": {},
   "outputs": [
    {
     "data": {
      "text/plain": [
       "array([[ 4,  5,  6],\n",
       "       [ 7,  9,  8],\n",
       "       [11, 10, 12]])"
      ]
     },
     "execution_count": 94,
     "metadata": {},
     "output_type": "execute_result"
    }
   ],
   "source": [
    "arr2d + 3"
   ]
  },
  {
   "cell_type": "code",
   "execution_count": 95,
   "id": "856913d9-ac54-439e-a81e-2dd18a9fbcf2",
   "metadata": {},
   "outputs": [
    {
     "data": {
      "text/plain": [
       "array([[ 2,  4,  6],\n",
       "       [ 8, 12, 10],\n",
       "       [16, 14, 18]])"
      ]
     },
     "execution_count": 95,
     "metadata": {},
     "output_type": "execute_result"
    }
   ],
   "source": [
    "arr2d * 2"
   ]
  },
  {
   "cell_type": "code",
   "execution_count": 96,
   "id": "f1e76214-ccf9-4373-bdc7-c607b92dacea",
   "metadata": {},
   "outputs": [
    {
     "data": {
      "text/plain": [
       "array([[-2, -1,  0],\n",
       "       [ 1,  3,  2],\n",
       "       [ 5,  4,  6]])"
      ]
     },
     "execution_count": 96,
     "metadata": {},
     "output_type": "execute_result"
    }
   ],
   "source": [
    "arr2d - 3"
   ]
  },
  {
   "cell_type": "code",
   "execution_count": 97,
   "id": "8bce4fac-6aa7-419d-823c-8df1dfc78145",
   "metadata": {},
   "outputs": [
    {
     "data": {
      "text/plain": [
       "array([[1, 0, 1],\n",
       "       [0, 0, 1],\n",
       "       [0, 1, 1]], dtype=int32)"
      ]
     },
     "execution_count": 97,
     "metadata": {},
     "output_type": "execute_result"
    }
   ],
   "source": [
    "arr2d % 2"
   ]
  },
  {
   "cell_type": "code",
   "execution_count": 98,
   "id": "b50e7e75-5796-4648-9840-505ae76a064f",
   "metadata": {},
   "outputs": [],
   "source": [
    "arr33 = arr2d.copy()"
   ]
  },
  {
   "cell_type": "code",
   "execution_count": 99,
   "id": "e0d4868a-5520-41f7-a317-e0019777a2b4",
   "metadata": {},
   "outputs": [
    {
     "data": {
      "text/plain": [
       "array([[1, 2, 3],\n",
       "       [4, 6, 5],\n",
       "       [8, 7, 9]])"
      ]
     },
     "execution_count": 99,
     "metadata": {},
     "output_type": "execute_result"
    }
   ],
   "source": [
    "arr33"
   ]
  },
  {
   "cell_type": "code",
   "execution_count": 100,
   "id": "846aba6b-7746-4bc1-855f-5c89f3e900e4",
   "metadata": {},
   "outputs": [
    {
     "data": {
      "text/plain": [
       "array([[1, 2, 3],\n",
       "       [4, 6, 5],\n",
       "       [8, 7, 9]])"
      ]
     },
     "execution_count": 100,
     "metadata": {},
     "output_type": "execute_result"
    }
   ],
   "source": [
    "arr2d"
   ]
  },
  {
   "cell_type": "code",
   "execution_count": 101,
   "id": "e22a923a-8d04-4211-a23e-99d6c43cc868",
   "metadata": {},
   "outputs": [
    {
     "data": {
      "text/plain": [
       "array([0, 1, 2, 3, 4, 5, 6, 7, 8, 9])"
      ]
     },
     "execution_count": 101,
     "metadata": {},
     "output_type": "execute_result"
    }
   ],
   "source": [
    "arr"
   ]
  },
  {
   "cell_type": "code",
   "execution_count": 102,
   "id": "42bf6991-81cc-4a96-9b27-06574b6e525e",
   "metadata": {},
   "outputs": [
    {
     "data": {
      "text/plain": [
       "array([[[ 1,  2,  3],\n",
       "        [ 4,  6,  5],\n",
       "        [ 8,  7,  9]],\n",
       "\n",
       "       [[11, 12, 13],\n",
       "        [14, 16, 15],\n",
       "        [18, 17, 19]]])"
      ]
     },
     "execution_count": 102,
     "metadata": {},
     "output_type": "execute_result"
    }
   ],
   "source": [
    "arr3d"
   ]
  },
  {
   "cell_type": "markdown",
   "id": "681910bd-7d23-43cc-a106-b0ce46fb1edb",
   "metadata": {},
   "source": [
    "### Indexing and Slicing"
   ]
  },
  {
   "cell_type": "code",
   "execution_count": 104,
   "id": "2c7f8d7d-098f-49c3-a188-ee9108cd8036",
   "metadata": {},
   "outputs": [
    {
     "data": {
      "text/plain": [
       "17"
      ]
     },
     "execution_count": 104,
     "metadata": {},
     "output_type": "execute_result"
    }
   ],
   "source": [
    "arr3d[1,2,1]"
   ]
  },
  {
   "cell_type": "code",
   "execution_count": 109,
   "id": "a8a9960b-99e9-4ad9-baf8-76ff5ee2f5f8",
   "metadata": {},
   "outputs": [
    {
     "data": {
      "text/plain": [
       "array([[ 2,  6,  7],\n",
       "       [12, 16, 17]])"
      ]
     },
     "execution_count": 109,
     "metadata": {},
     "output_type": "execute_result"
    }
   ],
   "source": [
    "arr3d[:,:,1]"
   ]
  },
  {
   "cell_type": "code",
   "execution_count": 110,
   "id": "da0e1caa-b9a7-4028-aae1-be26301ac308",
   "metadata": {},
   "outputs": [
    {
     "data": {
      "text/plain": [
       "array([[[ 1,  2],\n",
       "        [ 4,  6]],\n",
       "\n",
       "       [[11, 12],\n",
       "        [14, 16]]])"
      ]
     },
     "execution_count": 110,
     "metadata": {},
     "output_type": "execute_result"
    }
   ],
   "source": [
    "arr3d[:,0:2,0:2]"
   ]
  },
  {
   "cell_type": "markdown",
   "id": "c770abce-1470-46eb-8025-a91df705303d",
   "metadata": {},
   "source": [
    "### Linear Algebra"
   ]
  },
  {
   "cell_type": "code",
   "execution_count": null,
   "id": "b9fe5403-37cb-4675-9b92-082bf7c7541a",
   "metadata": {},
   "outputs": [],
   "source": []
  }
 ],
 "metadata": {
  "kernelspec": {
   "display_name": "Python 3 (ipykernel)",
   "language": "python",
   "name": "python3"
  },
  "language_info": {
   "codemirror_mode": {
    "name": "ipython",
    "version": 3
   },
   "file_extension": ".py",
   "mimetype": "text/x-python",
   "name": "python",
   "nbconvert_exporter": "python",
   "pygments_lexer": "ipython3",
   "version": "3.12.3"
  }
 },
 "nbformat": 4,
 "nbformat_minor": 5
}
